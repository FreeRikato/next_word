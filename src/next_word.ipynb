{
 "cells": [
  {
   "cell_type": "markdown",
   "metadata": {},
   "source": [
    "# Lecture 55: LSTM and GRU End to End Deep Learning Project - Predicting next word"
   ]
  },
  {
   "cell_type": "markdown",
   "metadata": {},
   "source": [
    "## Project Description: Next Word Prediction Using LSTM \n",
    "\n",
    "**Project Overview:** This project aims to develop a deep learning model for predicting the next word in a given sequence of words. The model is built using Long Short-Term Memory (LSTM) networks, which are well-suited for sequence prediction tasks. The project includes the following steps:\n",
    "\n",
    "1- **Data Collection:** We use the text of Shakespeare's \"Hamlet\" as our dataset. This rich, complex text provides a good challenge for our model. \n",
    "\n",
    "2- **Data Preprocessing:** The text data is tokenized, converted into sequences, and padded to ensure uniform input lengths. The sequences are then split into training and testing sets.\n",
    "\n",
    "3- **Model Building:** An LSTM model is constructed with an embedding layer, two LSTM layers, and a dense output layer with a softmax activation function to predict the probability of the next word. \n",
    "\n",
    "4- **Model Training:** The model is trained using the prepared sequences, with early stopping implemented to prevent overfitting. Early stopping monitors the validation loss and stops training when the loss stops improving. \n",
    "\n",
    "5- **Model Evaluation:** The model is evaluated using a set of example sentences to test its ability to predict the next word accurately."
   ]
  },
  {
   "cell_type": "markdown",
   "metadata": {},
   "source": [
    "## 1. Data Collection"
   ]
  },
  {
   "cell_type": "markdown",
   "metadata": {},
   "source": [
    "**What is the Gutenberg corpus?**\n",
    "\n",
    "**Gutenberg corpus:** Collection of various public domain texts, including classic literature and religious works. This is advanced NLP text data because it contains a wide range of genres and styles."
   ]
  },
  {
   "cell_type": "code",
   "execution_count": 1,
   "metadata": {},
   "outputs": [
    {
     "name": "stderr",
     "output_type": "stream",
     "text": [
      "[nltk_data] Downloading package gutenberg to /home/rikato/nltk_data...\n",
      "[nltk_data]   Unzipping corpora/gutenberg.zip.\n"
     ]
    }
   ],
   "source": [
    "import nltk\n",
    "nltk.download('gutenberg') # Downloads the Gutenberg corpus from the NLTK library\n",
    "from nltk.corpus import gutenberg\n",
    "import pandas as pd"
   ]
  },
  {
   "cell_type": "code",
   "execution_count": 2,
   "metadata": {},
   "outputs": [],
   "source": [
    "data  = gutenberg.raw('shakespeare-hamlet.txt')\n",
    "# Import text of Shakespeare's Hamlet from the NLTK Gutenberg corpus\n",
    "with open('hamlet.txt', 'w') as f:\n",
    "    f.write(data)"
   ]
  },
  {
   "cell_type": "markdown",
   "metadata": {},
   "source": [
    "## 2. Data Preprocessing"
   ]
  },
  {
   "cell_type": "markdown",
   "metadata": {},
   "source": [
    "**What does the `pad_sequences` and `Tokenizer` functions do? Explain `Tokenizer` in detail.**\n",
    "\n",
    "| Functions | Description |\n",
    "| --- | --- |\n",
    "| `pad_sequences` | Pads sequences (list of integers) to uniform length |\n",
    "| `Tokenizer` | Vectorize text into sequences of integers |\n",
    "\n",
    "- `pad_sequences` is useful when input sequences are of varying lenghts and need to make all sequences the same length for input into a neural network.\n",
    "- `Tokenizer` can create a vocabulary index based on word frequency and encode new texts using this index.\n",
    "\n",
    "### Tokenizer Example:\n",
    "```python\n",
    "texts = [\n",
    "    \"I love machine learning\",\n",
    "    \"I love deep learning\",\n",
    "    \"Neural networks are amazing\"\n",
    "]\n",
    "\n",
    "print(Tokenizer().fit_on_texts(texts).word_index)\n",
    "```\n",
    "Output:\n",
    "```json\n",
    "{'love': 1, 'learning': 2, 'i': 3, 'machine': 4, 'deep': 5, 'neural': 6, 'networks': 7, 'are': 8, 'amazing': 9}\n",
    "```\n",
    "\n",
    "- Each word is assigned an integer value based on its frequency i.e. most frequent words get lower indices\n",
    "- Now we can use this tokenizer to convert new text to sequences of integers:\n",
    "```python\n",
    "new_text = \"I love neural networks\"\n",
    "sequences = tokenizer.texts_to_sequences([new_text])\n",
    "print(sequences)\n",
    "```\n",
    "Output:\n",
    "```json\n",
    "[[3, 1, 6, 7]]\n",
    "```\n",
    "\n",
    "> Each word in the new text is replaced by its corresponding integer from the vocabulary.\n"
   ]
  },
  {
   "cell_type": "code",
   "execution_count": 4,
   "metadata": {},
   "outputs": [],
   "source": [
    "import numpy as np\n",
    "from tensorflow.keras.preprocessing.sequence import pad_sequences\n",
    "from tensorflow.keras.preprocessing.text import Tokenizer\n",
    "from sklearn.model_selection import train_test_split\n",
    "from pprint import pprint"
   ]
  },
  {
   "cell_type": "code",
   "execution_count": 9,
   "metadata": {},
   "outputs": [],
   "source": [
    "with open('hamlet.txt', 'r') as f:\n",
    "    text = f.read().lower()\n",
    "\n",
    "tokenizer = Tokenizer()\n",
    "tokenizer.fit_on_texts([text])\n",
    "total_words = len(tokenizer.word_index) + 1\n",
    "\n",
    "# Print the first 20 words and their indices\n",
    "# pprint(dict(list(tokenizer.word_index.items())[:20]), width=80, compact=False)\n"
   ]
  },
  {
   "cell_type": "markdown",
   "metadata": {},
   "source": [
    "**How do you process the text data for input sequences?**\n",
    "1. Iterate through each line of the text, that is split into separate lines.\n",
    "2. For each line, convert the text into sequences of tokens (numbers) using the tokenizer.\n",
    "\n",
    "> From the above example, we know that `texts_to_sequences` will return a list of lists, where each inner list corresponds to the tokenized sequence for each input text. \n",
    "> \n",
    "> Since, we're only passing one line at a time, the result is a list containing a single list of tokens.\n",
    "\n",
    "3. By using [0], we're extracting that single list of tokens from the outer list, so token_list directly contains the sequence of tokens for the current line, rather than a list containing that sequence.\n",
    "4. Then, it's creating n-gram sequnces of increasing length for each line.\n",
    "\n",
    "**Let's use a simple example to illustrate:**\n",
    "\n",
    "Suppose we have this text: \"I love coding\"\n",
    "\n",
    "After tokenization, it might look like this: [1, 2, 3]\n",
    "\n",
    "The code will generate these sequences: [1, 2] [1, 2, 3]\n",
    "\n",
    "```python\n",
    "for line in text.split('\\n'):\n",
    "    # If line is \"I love coding\"\n",
    "    token_list = tokenizer.texts_to_sequences([line])[0]\n",
    "    # token_list might be [1, 2, 3]\n",
    "    \n",
    "    for i in range(1, len(token_list)):\n",
    "        # i will be 1, then 2\n",
    "        n_gram_sequence = token_list[:i+1]\n",
    "        # When i=1: n_gram_sequence = [1, 2]\n",
    "        # When i=2: n_gram_sequence = [1, 2, 3]\n",
    "        input_sequences.append(n_gram_sequence)\n",
    "```\n"
   ]
  },
  {
   "cell_type": "markdown",
   "metadata": {},
   "source": [
    "**What do you mean by n_gram? Explain n_gram_sequence and n_gram_frequency.**\n",
    "\n",
    "1. N-gram:\n",
    "   - An n-gram is a contiguous sequence of n items(usually words or characters) from a given sample of text or speech.\n",
    "   - n-grams are used to capture patterns and predict the likelihood of word sequences.\n",
    "2. n_gram_sequence:\n",
    "   - sequence of words that make up an n-gram.\n",
    "3. n_gram_frequency:\n",
    "   - measure of how often an n-gram appears in a given text or corpus.\n",
    "   - more frequent n-grams are generally more likely to occur."
   ]
  },
  {
   "cell_type": "code",
   "execution_count": 17,
   "metadata": {},
   "outputs": [
    {
     "name": "stdout",
     "output_type": "stream",
     "text": [
      "[[1, 687],\n",
      " [1, 687, 4],\n",
      " [1, 687, 4, 45],\n",
      " [1, 687, 4, 45, 41],\n",
      " [1, 687, 4, 45, 41, 1886],\n",
      " [1, 687, 4, 45, 41, 1886, 1887],\n",
      " [1, 687, 4, 45, 41, 1886, 1887, 1888],\n",
      " [1180, 1889],\n",
      " [1180, 1889, 1890],\n",
      " [1180, 1889, 1890, 1891]]\n"
     ]
    }
   ],
   "source": [
    "# Creating input sequences\n",
    "\n",
    "input_sequences = []\n",
    "for line in text.split('\\n'):\n",
    "    token_list = tokenizer.texts_to_sequences([line])[0]\n",
    "    for i in range(1, len(token_list)):\n",
    "        n_gram_sequence = token_list[:i+1]\n",
    "        input_sequences.append(n_gram_sequence)\n",
    "\n",
    "# Print the first 2 lines in terms of the input sequences\n",
    "pprint(input_sequences[:10], width=100, compact=False)"
   ]
  },
  {
   "cell_type": "code",
   "execution_count": 29,
   "metadata": {},
   "outputs": [
    {
     "name": "stdout",
     "output_type": "stream",
     "text": [
      "[[   0    0    0 ...    0    1  687]\n",
      " [   0    0    0 ...    1  687    4]\n",
      " [   0    0    0 ...  687    4   45]\n",
      " ...\n",
      " [   0    0    0 ...    4   45 1047]\n",
      " [   0    0    0 ...   45 1047    4]\n",
      " [   0    0    0 ... 1047    4  193]]\n"
     ]
    }
   ],
   "source": [
    "# Pad Sequences\n",
    "\n",
    "max_sequence_len = max([len(x) for x in input_sequences])\n",
    "\n",
    "max_sequence_len\n",
    "\n",
    "input_sequences = np.array(pad_sequences(input_sequences, maxlen=max_sequence_len, padding='pre'))\n",
    "\n",
    "print(input_sequences)"
   ]
  },
  {
   "cell_type": "markdown",
   "metadata": {},
   "source": [
    "**How to process the input sequences for LSTM Neural Network training?**\n",
    "\n",
    "1. Split the input sequences into x and y where x is the input sequence ([:,:-1] - All columns except the last one) and y is the next word ([:,-1] - last column).\n",
    "2. Categorize the words in the next word column using one-hot encoding.\n",
    "\n",
    "Example:\n",
    "If `input_sequences` is:\n",
    "\n",
    "```json\n",
    "[[1, 2, 3, 4],\n",
    " [2, 3, 4, 5],\n",
    " [3, 4, 5, 6]]\n",
    "```\n",
    "Then, x would be:\n",
    "```json\n",
    "[[1, 2, 3],\n",
    " [2, 3, 4],\n",
    " [3, 4, 5]]\n",
    "```\n",
    "And y would be:\n",
    "```json\n",
    "[4, 5, 6]\n",
    "```\n",
    "Now, convert y into one-hot encoding:\n",
    "```json\n",
    "[[0, 0, 0, 1, 0, 0, 0],\n",
    " [0, 0, 0, 0, 1, 0, 0],\n",
    " [0, 0, 0, 0, 0, 1, 0]]\n",
    "```\n",
    "\n"
   ]
  },
  {
   "cell_type": "code",
   "execution_count": null,
   "metadata": {},
   "outputs": [],
   "source": [
    "# Create Predictors and label\n",
    "\n",
    "import tensorflow as tf\n",
    "\n",
    "x, y = input_sequences[:,:-1], input_sequences[:,-1]\n",
    "tf.keras.utils.to_categorical(y, num_classes=total_words)\n",
    "\n",
    "x_train, x_test, y_train, y_test = train_test_split(x, y, test_size=0.2, random_state=42)"
   ]
  }
 ],
 "metadata": {
  "kernelspec": {
   "display_name": ".next_word",
   "language": "python",
   "name": "python3"
  },
  "language_info": {
   "codemirror_mode": {
    "name": "ipython",
    "version": 3
   },
   "file_extension": ".py",
   "mimetype": "text/x-python",
   "name": "python",
   "nbconvert_exporter": "python",
   "pygments_lexer": "ipython3",
   "version": "3.12.3"
  }
 },
 "nbformat": 4,
 "nbformat_minor": 2
}
